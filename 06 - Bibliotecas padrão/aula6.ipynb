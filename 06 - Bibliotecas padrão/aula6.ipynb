{
 "cells": [
  {
   "cell_type": "markdown",
   "metadata": {},
   "source": [
    "## 1 - Datetime"
   ]
  },
  {
   "cell_type": "code",
   "execution_count": 1,
   "metadata": {},
   "outputs": [
    {
     "name": "stdout",
     "output_type": "stream",
     "text": [
      "2024-11-17 20:19:51.867220\n"
     ]
    }
   ],
   "source": [
    "from datetime import datetime, timedelta\n",
    "\n",
    "# Obter data e hora atuais\n",
    "\n",
    "data_atual = datetime.now()\n",
    "\n",
    "print(data_atual)"
   ]
  },
  {
   "cell_type": "code",
   "execution_count": 3,
   "metadata": {},
   "outputs": [
    {
     "name": "stdout",
     "output_type": "stream",
     "text": [
      "17/11/2024\n"
     ]
    }
   ],
   "source": [
    "# Formatação\n",
    "data = datetime(2024, 11, 17)\n",
    "formato_personalizado = \"%d/%m/%Y\"\n",
    "data_formatada = data.strftime(formato_personalizado)\n",
    "\n",
    "print(data_formatada)"
   ]
  },
  {
   "cell_type": "code",
   "execution_count": null,
   "metadata": {},
   "outputs": [],
   "source": [
    "# Adicionar ou subtrair dias de uma data\n",
    "data_atual = datetime.now()\n",
    "data_futura = data_atual + timedelta(days=7)\n",
    "data_passada = data_atual - timedelta(days=7)"
   ]
  }
 ],
 "metadata": {
  "kernelspec": {
   "display_name": "Python 3",
   "language": "python",
   "name": "python3"
  },
  "language_info": {
   "codemirror_mode": {
    "name": "ipython",
    "version": 3
   },
   "file_extension": ".py",
   "mimetype": "text/x-python",
   "name": "python",
   "nbconvert_exporter": "python",
   "pygments_lexer": "ipython3",
   "version": "3.12.0"
  }
 },
 "nbformat": 4,
 "nbformat_minor": 2
}
