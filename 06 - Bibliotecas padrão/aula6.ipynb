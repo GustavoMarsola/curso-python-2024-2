{
 "cells": [
  {
   "cell_type": "markdown",
   "metadata": {},
   "source": [
    "## 1 - Datetime"
   ]
  },
  {
   "cell_type": "code",
   "execution_count": null,
   "metadata": {},
   "outputs": [],
   "source": [
    "from datetime import datetime, timedelta\n",
    "\n",
    "# Obter data e hora atuais\n",
    "\n",
    "data_atual = datetime.now()\n",
    "\n",
    "print(data_atual)"
   ]
  },
  {
   "cell_type": "code",
   "execution_count": null,
   "metadata": {},
   "outputs": [],
   "source": [
    "# Formatação\n",
    "data = datetime(2024, 11, 17)\n",
    "formato_personalizado = \"%d/%m/%Y\"\n",
    "data_formatada = data.strftime(formato_personalizado)\n",
    "\n",
    "print(data_formatada)"
   ]
  },
  {
   "cell_type": "code",
   "execution_count": null,
   "metadata": {},
   "outputs": [],
   "source": [
    "# Adicionar ou subtrair dias de uma data\n",
    "data_atual = datetime.now()\n",
    "data_futura  = data_atual + timedelta(days=3)\n",
    "data_passada = data_atual - timedelta(days=3)\n",
    "\n",
    "print(data_atual)\n",
    "print(data_futura)\n",
    "print(data_passada)"
   ]
  },
  {
   "cell_type": "code",
   "execution_count": null,
   "metadata": {},
   "outputs": [],
   "source": [
    "data_geracao_token = datetime.now()\n",
    "data_expiracao_token = data_geracao_token + timedelta(minutes=15)\n",
    "\n",
    "print(data_geracao_token)\n",
    "print(data_expiracao_token)"
   ]
  },
  {
   "cell_type": "code",
   "execution_count": null,
   "metadata": {},
   "outputs": [],
   "source": [
    "# Exemplo de contador de tempo (cronômetro)\n",
    "\n",
    "import time\n",
    "from datetime import datetime\n",
    "\n",
    "while True:\n",
    "    # Obtém a data e hora atual\n",
    "    now = datetime.now()\n",
    "\n",
    "    # Formata a data e hora no formato desejado (ano, dia, hora, minuto, segundo)\n",
    "    formatted_time = now.strftime(\"%Y-%m-%d %H:%M:%S\")\n",
    "\n",
    "    # Limpa a tela (funciona em sistemas Unix e Windows)\n",
    "    print(\"\\033c\", end=\"\")  # Para Windows pode ser necessário usar 'cls' com os.system()\n",
    "\n",
    "    # Exibe o contador no terminal\n",
    "    print(\"Contador de tempo:\")\n",
    "    print(f\"Ano, Dia, Hora, Minuto, Segundo: {formatted_time}\")\n",
    "\n",
    "    # Aguarda 1 segundo antes de atualizar\n",
    "    time.sleep(1)\n"
   ]
  },
  {
   "cell_type": "markdown",
   "metadata": {},
   "source": [
    "## 2 - OS"
   ]
  },
  {
   "cell_type": "code",
   "execution_count": null,
   "metadata": {},
   "outputs": [],
   "source": [
    "import os\n",
    "\n",
    "# Obter o diretório atual\n",
    "diretorio_atual = os.getcwd()\n",
    "print(diretorio_atual)"
   ]
  },
  {
   "cell_type": "code",
   "execution_count": null,
   "metadata": {},
   "outputs": [],
   "source": [
    "# Listar arquivos de um diretório\n",
    "arquivos = os.listdir(diretorio_atual)\n",
    "print(arquivos)"
   ]
  },
  {
   "cell_type": "code",
   "execution_count": null,
   "metadata": {},
   "outputs": [],
   "source": [
    "# Criar um novo diretório\n",
    "novo_diretorio = r\"c:\\Users\\gustavo.marsola_solf\\Documents\\GUSTAVO MARSOLA\\curso-python-2024-2\\Aula 08\"\n",
    "os.mkdir(novo_diretorio)"
   ]
  },
  {
   "cell_type": "code",
   "execution_count": null,
   "metadata": {},
   "outputs": [],
   "source": [
    "# Verificar se um arquivo ou diretório existe\n",
    "def verificar_arquivo_diretorio(arquivo):\n",
    "    if os.path.exists(arquivo):\n",
    "        print(f\"O arquivo ou diretório '{arquivo}' existe.\")\n",
    "    else:\n",
    "        print(f\"O arquivo ou diretório '{arquivo}' não existe.\")\n",
    "\n",
    "verificar_arquivo_diretorio(novo_diretorio)"
   ]
  },
  {
   "cell_type": "code",
   "execution_count": null,
   "metadata": {},
   "outputs": [],
   "source": [
    "# Variaveis de ambiente padrões do windows\n",
    "print(os.environ)"
   ]
  },
  {
   "cell_type": "code",
   "execution_count": null,
   "metadata": {},
   "outputs": [],
   "source": [
    "print(os.getenv(\"USERNAME\"))\n",
    "print(os.getenv(\"CHROME_CRASHPAD_PIPE_NAME\"))\n",
    "print(os.getenv(\"AUTH_TOKEN_API\"))"
   ]
  },
  {
   "cell_type": "code",
   "execution_count": null,
   "metadata": {},
   "outputs": [],
   "source": [
    "# Obter informações sobre um arquivo\n",
    "info_arquivo = os.stat(\"hospedes.json\")\n",
    "print(info_arquivo)"
   ]
  },
  {
   "cell_type": "markdown",
   "metadata": {},
   "source": [
    "## 3 - JSON"
   ]
  },
  {
   "cell_type": "code",
   "execution_count": null,
   "metadata": {},
   "outputs": [],
   "source": [
    "import json\n",
    "\n",
    "# Carregar o arquivo JSON\n",
    "with open(file='hospedes.json', mode='r', encoding='utf-8-sig') as file:\n",
    "    dados = json.load(file)\n",
    "\n",
    "\n",
    "# print(dados)\n",
    "\n",
    "for hospede in dados['hospedes']:\n",
    "    print(f\"Hóspede: {hospede['nome']}\")\n",
    "    print(f\"Tipo de quarto: {hospede['tipo_quarto']}\")\n",
    "    print(f\"Check-in: {hospede.get('data_checkin')}\")\n",
    "    print(f\"Check-out: {hospede.get('data_checkout')}\")\n",
    "    print(\"-\" * 30)"
   ]
  },
  {
   "cell_type": "code",
   "execution_count": 39,
   "metadata": {},
   "outputs": [
    {
     "name": "stdout",
     "output_type": "stream",
     "text": [
      "Novo hóspede adicionado com sucesso!\n"
     ]
    }
   ],
   "source": [
    "# Dados do novo hóspede\n",
    "novo_hospede = {\n",
    "    \"id\": 5,\n",
    "    \"nome\": \"Lucas Souza\",\n",
    "    \"email\": \"lucas.souza@email.com\",\n",
    "    \"telefone\": \"(11) 99876-1234\",\n",
    "    \"data_checkin\": \"2024-12-10\",\n",
    "    \"data_checkout\": \"2024-12-15\",\n",
    "    \"tipo_quarto\": \"Premium\",\n",
    "    \"observacoes\": \"Pedido de cama king-size\"\n",
    "}\n",
    "\n",
    "# Adicionar o novo hóspede\n",
    "dados['hospedes'].append(novo_hospede)\n",
    "\n",
    "# Salvar o arquivo JSON atualizado\n",
    "with open(file='hospedes.json', mode='w', encoding='utf-8-sig') as file:\n",
    "    json.dump(dados, file, indent=4, ensure_ascii=False)\n",
    "\n",
    "print(\"Novo hóspede adicionado com sucesso!\")"
   ]
  },
  {
   "cell_type": "code",
   "execution_count": null,
   "metadata": {},
   "outputs": [],
   "source": []
  }
 ],
 "metadata": {
  "kernelspec": {
   "display_name": "Python 3",
   "language": "python",
   "name": "python3"
  },
  "language_info": {
   "codemirror_mode": {
    "name": "ipython",
    "version": 3
   },
   "file_extension": ".py",
   "mimetype": "text/x-python",
   "name": "python",
   "nbconvert_exporter": "python",
   "pygments_lexer": "ipython3",
   "version": "3.12.0"
  }
 },
 "nbformat": 4,
 "nbformat_minor": 2
}
