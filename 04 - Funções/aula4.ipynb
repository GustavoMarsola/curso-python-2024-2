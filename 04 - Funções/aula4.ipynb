{
 "cells": [
  {
   "cell_type": "markdown",
   "metadata": {},
   "source": [
    "## 1 - Funções Tradicionais"
   ]
  },
  {
   "cell_type": "code",
   "execution_count": null,
   "metadata": {},
   "outputs": [],
   "source": [
    "# A sintaxe de uma função consiste em:\n",
    "# Keyword que declara a função: def\n",
    "# Nome da função: PEP8 escrever com letras minusculas e usar o _ como se fosse espaçamento; não pode caracteres especiais e numeros (apenas o underline)\n",
    "# Parametros\n",
    "# Corpo da função\n",
    "# Retorno"
   ]
  },
  {
   "cell_type": "code",
   "execution_count": null,
   "metadata": {},
   "outputs": [],
   "source": [
    "usuarios = {\n",
    "    \"gmarsola@gmail.com\": \"teste1234\",\n",
    "    \"lucastracosa@gmail.com\": \"4321teste\"\n",
    "}\n",
    "\n",
    "# Validar login de usuário\n",
    "\n",
    "# ESCREVA SUAS FUNÇÕES NESTE PADRÃO !!!!\n",
    "# É MUITO MELHOR E MAIS INTELIGENTE QUE OS OUTROS !!!\n",
    "\n",
    "def validar_login(email: str, senha: str) -> bool:\n",
    "    \"\"\"\n",
    "    validar_login é uma função que recebe o email e senha e retorna se o login foi bem sucedido ou não\n",
    "    \n",
    "    param email: deve ser do tipo string\n",
    "    param senha: deve ser do tipo string\n",
    "    \n",
    "    return deve ser do tipo booleano\n",
    "    \"\"\"\n",
    "    \n",
    "    if usuarios.get(email) is None:\n",
    "        print(\"Usuário não encontrado\")\n",
    "        return False\n",
    "    \n",
    "    if usuarios.get(email) == senha:\n",
    "        print(\"Login realizado com sucesso\")\n",
    "        return True\n",
    "    else:\n",
    "        print(\"Senha incorreta\")\n",
    "        return False"
   ]
  },
  {
   "cell_type": "code",
   "execution_count": null,
   "metadata": {},
   "outputs": [],
   "source": [
    "login = validar_login(email=\"lucastracosa@gmail.com\", senha=\"4321teste\")\n",
    "print(login)"
   ]
  },
  {
   "cell_type": "code",
   "execution_count": null,
   "metadata": {},
   "outputs": [],
   "source": [
    "# Argumentos posicionais\n",
    "# ARGS será interpretado pelo pyton como uma tupla\n",
    "# O uso deste formato é adequado quando a ordem dos elementos não importa para a função\n",
    "# Por exemplo: um somatorio, ou uma multiplicação!\n",
    "# No caso de validar login não é muito interessante de se usar\n",
    "\n",
    "def validar_login(*args) -> bool:\n",
    "    \"\"\"\n",
    "    args: representa N argumentos posicionais\n",
    "    \n",
    "    No nosso exemplo, deve ser, estritamente, email e depois a senha\n",
    "    \n",
    "    return um valor booleano que representa o login bem sucedido (ou não)\n",
    "    \"\"\"\n",
    "    print(args)\n",
    "    email = args[0]\n",
    "    senha = args[1]\n",
    "    \n",
    "    if usuarios.get(email) is None:\n",
    "        print(\"Usuário não encontrado\")\n",
    "        return False\n",
    "    \n",
    "    if usuarios.get(email) == senha:\n",
    "        print(\"Login realizado com sucesso\")\n",
    "        return True\n",
    "    else:\n",
    "        print(\"Senha incorreta\")\n",
    "        return False"
   ]
  },
  {
   "cell_type": "code",
   "execution_count": null,
   "metadata": {},
   "outputs": [],
   "source": [
    "login = validar_login(\"lucastracosa@gmail.com\", \"4321teste\")\n",
    "print(login)"
   ]
  },
  {
   "cell_type": "code",
   "execution_count": null,
   "metadata": {},
   "outputs": [],
   "source": [
    "def calcular_media(*args) -> float:\n",
    "    \"\"\"\n",
    "    calcular_media é uma função que recebe N valores numericos e retorna a médias deles\n",
    "    \n",
    "    args: devem ser numeros (float ou inteiro), para tornar possível o uso do sum\n",
    "    \n",
    "    return float que representa a media\n",
    "    \"\"\"\n",
    "    somaa = sum(args)\n",
    "    media = somaa / len(args)\n",
    "    \n",
    "    return media"
   ]
  },
  {
   "cell_type": "code",
   "execution_count": null,
   "metadata": {},
   "outputs": [],
   "source": [
    "media_vendas = calcular_media(50, 90, 150, 200, 40, 250)\n",
    "print(media_vendas)"
   ]
  },
  {
   "cell_type": "code",
   "execution_count": null,
   "metadata": {},
   "outputs": [],
   "source": [
    "# Argumentos estritamente chave-valor\n",
    "\n",
    "# No momento em que você for chamar a função, você poderá passar N argumento\n",
    "# O python receberá esses argumentos como um dicionário\n",
    "# No exemplo abaixo: \n",
    "# email e senha viram chaves do dict e lucastracosa@gmail.com e 4321teste viram valores do dict\n",
    "# Pra login, não é muito interessante de se usar\n",
    "# Pois quando você for coletar os valores dentro da função, vocÊ deve pegar o nove EXATO da chave\n",
    "\n",
    "def validar_login(**kwargs) -> bool:\n",
    "    \n",
    "    email = kwargs.get('email')\n",
    "    senha = kwargs.get('senha')\n",
    "    \n",
    "    if usuarios.get(email) is None:\n",
    "        print(\"Usuário não encontrado\")\n",
    "        return False\n",
    "    \n",
    "    if usuarios.get(email) == senha:\n",
    "        print(\"Login realizado com sucesso\")\n",
    "        return True\n",
    "    else:\n",
    "        print(\"Senha incorreta\")\n",
    "        return False\n"
   ]
  },
  {
   "cell_type": "code",
   "execution_count": null,
   "metadata": {},
   "outputs": [],
   "source": [
    "login = validar_login(email=\"lucastracosa@gmail.com\", senha=\"4321teste\")\n",
    "print(login)"
   ]
  },
  {
   "cell_type": "markdown",
   "metadata": {},
   "source": [
    "## 2 - Funções Anônimas"
   ]
  },
  {
   "cell_type": "code",
   "execution_count": 32,
   "metadata": {},
   "outputs": [
    {
     "name": "stdout",
     "output_type": "stream",
     "text": [
      "True\n"
     ]
    }
   ],
   "source": [
    "validar_login = lambda email, senha: True if usuarios.get(email) == senha else False\n",
    "\n",
    "login = validar_login(\"gmarsola@gmail.com\", 'teste1234')\n",
    "\n",
    "print(login)\n"
   ]
  }
 ],
 "metadata": {
  "kernelspec": {
   "display_name": "Python 3",
   "language": "python",
   "name": "python3"
  },
  "language_info": {
   "codemirror_mode": {
    "name": "ipython",
    "version": 3
   },
   "file_extension": ".py",
   "mimetype": "text/x-python",
   "name": "python",
   "nbconvert_exporter": "python",
   "pygments_lexer": "ipython3",
   "version": "3.12.0"
  }
 },
 "nbformat": 4,
 "nbformat_minor": 2
}
