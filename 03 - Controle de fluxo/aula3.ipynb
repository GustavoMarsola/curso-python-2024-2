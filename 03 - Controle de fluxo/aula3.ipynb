{
 "cells": [
  {
   "cell_type": "markdown",
   "metadata": {},
   "source": [
    "## 1 - if/else"
   ]
  },
  {
   "cell_type": "code",
   "execution_count": null,
   "metadata": {},
   "outputs": [],
   "source": [
    "total_quartos = 40\n",
    "reservas = 22\n",
    "\n",
    "if reservas > total_quartos:\n",
    "    print('Não há capacidade para hospedar pessoas')\n",
    "elif 35 <= reservas <= 39:\n",
    "    print('Atenção! Está próximo da capacidade total')\n",
    "elif 20 <= reservas <= 29:\n",
    "    print('Reservas OK')\n",
    "elif reservas < 10:\n",
    "    print('Atenção! Poucos quartos reservados, o comercial precisar trabalahr')\n",
    "else:\n",
    "    print('Há espaço disponível')"
   ]
  },
  {
   "cell_type": "markdown",
   "metadata": {},
   "source": [
    "## 2 - for"
   ]
  },
  {
   "cell_type": "code",
   "execution_count": null,
   "metadata": {},
   "outputs": [],
   "source": [
    "# Principal utilidade é percorrer listas e tuplas\n",
    "hospedes = [\"Gustavo Marsola\", \"Lucas Tracosa\", \"Belem Claveria\", \"Anibal Rojas\"]\n",
    "\n",
    "for h in hospedes:\n",
    "    print(h)\n",
    "    if h == \"Lucas Tracosa\":\n",
    "        print('Este hospede não pagou a conta!!')\n",
    "        break # Força a parada do loop\n",
    "\n",
    "\n",
    "for h in hospedes:\n",
    "    if h == \"Lucas Tracosa\":\n",
    "        continue # Pula para a proxima iteração\n",
    "    print(h)"
   ]
  },
  {
   "cell_type": "markdown",
   "metadata": {},
   "source": [
    "## 3 - While"
   ]
  },
  {
   "cell_type": "code",
   "execution_count": null,
   "metadata": {},
   "outputs": [],
   "source": [
    "qtd_papel_estoque = 20\n",
    "\n",
    "while qtd_papel_estoque < 30:\n",
    "    print('Não há papel suficiente no estoque, é necessario comprar mais')\n",
    "    print('Quantidade atual: ', qtd_papel_estoque)\n",
    "    compras = input('Quantos papeis você comprou? ')\n",
    "    qtd_papel_estoque += int(compras)\n"
   ]
  },
  {
   "cell_type": "markdown",
   "metadata": {},
   "source": [
    "## 4 - match/case"
   ]
  },
  {
   "cell_type": "code",
   "execution_count": null,
   "metadata": {},
   "outputs": [
    {
     "name": "stdout",
     "output_type": "stream",
     "text": [
      "A semana tem apanas 7 dias, seu burro!\n"
     ]
    }
   ],
   "source": [
    "dia_da_semana = 8\n",
    "\n",
    "match dia_da_semana:\n",
    "    case 1:\n",
    "        print(\"Hoje é domingo\")\n",
    "    case 2:\n",
    "        print(\"Hoje é segunda-feira\")\n",
    "    case 3:\n",
    "        print(\"Hoje é terça-feira\")\n",
    "    case 4:\n",
    "        print(\"Hoje é quarta-feira\")\n",
    "    case 5:\n",
    "        print(\"Hoje é quinta-feira\")\n",
    "    case 6:\n",
    "        print(\"Hoje é sexta-feira\")\n",
    "    case 7:\n",
    "        print(\"Hoje é sábado\")\n",
    "    case _:\n",
    "        print(\"A semana tem apenas 7 dias, seu burro!\")"
   ]
  }
 ],
 "metadata": {
  "kernelspec": {
   "display_name": "Python 3",
   "language": "python",
   "name": "python3"
  },
  "language_info": {
   "codemirror_mode": {
    "name": "ipython",
    "version": 3
   },
   "file_extension": ".py",
   "mimetype": "text/x-python",
   "name": "python",
   "nbconvert_exporter": "python",
   "pygments_lexer": "ipython3",
   "version": "3.12.0"
  }
 },
 "nbformat": 4,
 "nbformat_minor": 2
}
