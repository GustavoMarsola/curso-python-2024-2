{
 "cells": [
  {
   "cell_type": "markdown",
   "metadata": {},
   "source": [
    "Exceções são erros que ocorrem durante a execução do programa. Quando uma exceção ocorre, o fluxo do programa é interrompido. <br/> \n",
    "No entanto, se tratarmos essas exceções corretamente, podemos evitar que o programa seja interrompido e fornecer uma resposta adequada ao usuário ou ao sistema."
   ]
  },
  {
   "cell_type": "code",
   "execution_count": null,
   "metadata": {},
   "outputs": [],
   "source": [
    "resultado = 10 / 0\n",
    "print(resultado)\n"
   ]
  },
  {
   "cell_type": "markdown",
   "metadata": {},
   "source": [
    "No exemplo abaixo, ao tentar dividir por zero, a exceção ZeroDivisionError é capturada e tratada no bloco except."
   ]
  },
  {
   "cell_type": "code",
   "execution_count": null,
   "metadata": {},
   "outputs": [],
   "source": [
    "try:\n",
    "    resultado = 10 / 0\n",
    "except ZeroDivisionError:\n",
    "    print(\"Não é possível dividir por zero!\")"
   ]
  },
  {
   "cell_type": "markdown",
   "metadata": {},
   "source": [
    "O bloco else pode ser adicionado após o try e será executado se nenhuma exceção ocorrer. <br/>\n",
    "Ele é útil quando queremos garantir que uma parte do código só seja executada quando o try for bem-sucedido."
   ]
  },
  {
   "cell_type": "code",
   "execution_count": null,
   "metadata": {},
   "outputs": [],
   "source": [
    "try:\n",
    "    resultado = 10 / 2\n",
    "except ZeroDivisionError:\n",
    "    print(\"Não é possível dividir por zero!\")\n",
    "else:\n",
    "    print(\"A divisão foi realizada com sucesso!\")\n",
    "    print(f\"Resultado: {resultado}\")"
   ]
  },
  {
   "cell_type": "markdown",
   "metadata": {},
   "source": [
    "O bloco finally é sempre executado, independentemente de ocorrer uma exceção ou não. <br/>\n",
    "Ele é útil para garantir que certos recursos sejam liberados ou que determinadas ações sejam feitas, como fechar arquivos ou conexões."
   ]
  },
  {
   "cell_type": "code",
   "execution_count": null,
   "metadata": {},
   "outputs": [],
   "source": [
    "try:\n",
    "    resultado = 10 / 2\n",
    "except ZeroDivisionError:\n",
    "    print(\"Não é possível dividir por zero!\")\n",
    "else:\n",
    "    print(\"A divisão foi realizada com sucesso!\")\n",
    "    print(f\"Resultado: {resultado}\")\n",
    "finally:\n",
    "    print(\"O programa será encerrado\")"
   ]
  },
  {
   "cell_type": "markdown",
   "metadata": {},
   "source": [
    "Podemos tratar diferentes exceções de maneiras diferentes, utilizando múltiplos blocos except"
   ]
  },
  {
   "cell_type": "code",
   "execution_count": null,
   "metadata": {},
   "outputs": [],
   "source": [
    "try:\n",
    "    x = int(input(\"Digite um número: \"))\n",
    "    y = int(input(\"Digite outro número: \"))\n",
    "    resultado = x / y\n",
    "except ZeroDivisionError:\n",
    "    print(\"Não é possível dividir por zero!\")\n",
    "except ValueError:\n",
    "    print(\"Você não digitou um número válido!\")\n",
    "except Exception as e:\n",
    "    print(f\"Ocorreu um erro: {e}\")\n",
    "else:\n",
    "    print(f\"Resultado da divisão: {resultado}\")\n"
   ]
  },
  {
   "cell_type": "markdown",
   "metadata": {},
   "source": [
    "O raise também pode ser usado para levantar uma exceção explicitamente <br/>\n",
    "Isso nos permite melhor controle da mensagem"
   ]
  },
  {
   "cell_type": "code",
   "execution_count": null,
   "metadata": {},
   "outputs": [],
   "source": [
    "def dividir(x, y):\n",
    "    if y == 0:\n",
    "        raise ZeroDivisionError(\"Não é possível dividir por zero!\")\n",
    "    return x / y\n",
    "\n",
    "try:\n",
    "    resultado = dividir(10, 0)\n",
    "except ZeroDivisionError as e:\n",
    "    print(f\"Erro: {e}\")\n"
   ]
  },
  {
   "cell_type": "markdown",
   "metadata": {},
   "source": [
    "Você também pode criar suas próprias exceções em Python, definindo uma nova classe que herda de Exception."
   ]
  },
  {
   "cell_type": "code",
   "execution_count": null,
   "metadata": {},
   "outputs": [],
   "source": [
    "class IdadeInvalidaException(Exception):\n",
    "    def __init__(self, mensagem):\n",
    "        super().__init__(mensagem)\n",
    "\n",
    "def verificar_idade(idade):\n",
    "    if idade < 0:\n",
    "        raise IdadeInvalidaException(\"Idade não pode ser negativa!\")\n",
    "    print(f\"Idade válida: {idade}\")\n",
    "\n",
    "try:\n",
    "    verificar_idade(-5)\n",
    "except IdadeInvalidaException as e:\n",
    "    print(f\"Erro: {e}\")\n"
   ]
  }
 ],
 "metadata": {
  "kernelspec": {
   "display_name": "Python 3",
   "language": "python",
   "name": "python3"
  },
  "language_info": {
   "codemirror_mode": {
    "name": "ipython",
    "version": 3
   },
   "file_extension": ".py",
   "mimetype": "text/x-python",
   "name": "python",
   "nbconvert_exporter": "python",
   "pygments_lexer": "ipython3",
   "version": "3.12.0"
  }
 },
 "nbformat": 4,
 "nbformat_minor": 2
}
