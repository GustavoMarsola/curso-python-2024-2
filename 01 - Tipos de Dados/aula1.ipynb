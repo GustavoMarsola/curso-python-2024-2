{
 "cells": [
  {
   "cell_type": "markdown",
   "metadata": {},
   "source": [
    "1 - Strings (str) - Representam uma cadeia de caracteres"
   ]
  },
  {
   "cell_type": "code",
   "execution_count": 1,
   "metadata": {},
   "outputs": [
    {
     "name": "stdout",
     "output_type": "stream",
     "text": [
      "Lucas <class 'str'>\n",
      "Tracosa <class 'str'>\n"
     ]
    }
   ],
   "source": [
    "nome = \"Lucas\"\n",
    "sobrenome = \"Tracosa\"\n",
    "\n",
    "print(nome, type(nome))\n",
    "print(sobrenome, type(sobrenome))\n"
   ]
  },
  {
   "cell_type": "markdown",
   "metadata": {},
   "source": [
    "1.1 - Operações com strings - Concatenação e formatação"
   ]
  },
  {
   "cell_type": "code",
   "execution_count": 2,
   "metadata": {},
   "outputs": [
    {
     "name": "stdout",
     "output_type": "stream",
     "text": [
      "Lucas Tracosa <class 'str'>\n"
     ]
    }
   ],
   "source": [
    "# Concatenação \n",
    "nome_completo = str(nome) + \" \" + str(sobrenome)\n",
    "# nome_completo = str(nome) + \" \" + str(1)\n",
    "print(nome_completo, type(nome_completo))"
   ]
  },
  {
   "cell_type": "code",
   "execution_count": 3,
   "metadata": {},
   "outputs": [
    {
     "name": "stdout",
     "output_type": "stream",
     "text": [
      "Lucas Tracosa <class 'str'>\n",
      "Lucas Tracosa da Silva <class 'str'>\n",
      "010110298762\n"
     ]
    }
   ],
   "source": [
    "# Formatação\n",
    "nome_formatado_1 = \"{} {}\".format(nome, sobrenome)\n",
    "print(nome_formatado_1, type(nome_formatado_1))\n",
    "\n",
    "# Minha versão preferida e mais usada\n",
    "nome_formatado_2 = f\"{nome} {sobrenome} da Silva\"\n",
    "print(nome_formatado_2, type(nome_formatado_2))\n",
    "\n",
    "# Exemplo pratico: gerar identifadores\n",
    "filial = \"010110\"\n",
    "nf= \"29876\"\n",
    "serie_nf=\"2\"\n",
    "\n",
    "print(f\"{filial}{nf}{serie_nf}\")\n"
   ]
  },
  {
   "cell_type": "markdown",
   "metadata": {},
   "source": [
    "1.2 - Operações com strings - Repetição e comprimento"
   ]
  },
  {
   "cell_type": "code",
   "execution_count": 4,
   "metadata": {},
   "outputs": [
    {
     "name": "stdout",
     "output_type": "stream",
     "text": [
      "LucasLucasLucasLucasLucasLucasLucasLucasLucasLucas\n"
     ]
    }
   ],
   "source": [
    "# Repetição\n",
    "print(nome*10)"
   ]
  },
  {
   "cell_type": "code",
   "execution_count": 5,
   "metadata": {},
   "outputs": [
    {
     "name": "stdout",
     "output_type": "stream",
     "text": [
      "5 <class 'int'>\n"
     ]
    }
   ],
   "source": [
    "# Comprimento\n",
    "quantidade_letras_nome = len(nome)\n",
    "# Atenção ! A saída da função len() é um inteiro !!!!!\n",
    "print(quantidade_letras_nome, type(quantidade_letras_nome))"
   ]
  },
  {
   "cell_type": "markdown",
   "metadata": {},
   "source": [
    "1.3 - Operações com strings - Indexação e slicing"
   ]
  },
  {
   "cell_type": "code",
   "execution_count": 25,
   "metadata": {},
   "outputs": [
    {
     "name": "stdout",
     "output_type": "stream",
     "text": [
      "Lucas Tracosa\n",
      "Quantidade de caracteres do nome completo:  13\n",
      "L\n",
      "a\n",
      "as Tra\n"
     ]
    }
   ],
   "source": [
    "# Use somente em casos onde há um padrão de escrita.\n",
    "\n",
    "# Pegar caracteres por indice\n",
    "primeira_letra = nome_completo[0]\n",
    "ultima_letra = nome_completo[-1]\n",
    "\n",
    "# Pegar caracteres por slicing\n",
    "letras_do_meio = nome_completo[3:9]\n",
    "\n",
    "print(nome_completo)\n",
    "print('Quantidade de caracteres do nome completo: ', len(nome_completo))\n",
    "print(primeira_letra)\n",
    "print(ultima_letra)\n",
    "print(letras_do_meio)\n"
   ]
  },
  {
   "cell_type": "markdown",
   "metadata": {},
   "source": [
    "1.4 - Operações com strings - Maiusculo, minusculo, capitalização, title, etc..."
   ]
  },
  {
   "cell_type": "code",
   "execution_count": 22,
   "metadata": {},
   "outputs": [
    {
     "name": "stdout",
     "output_type": "stream",
     "text": [
      "LUCAS TRACOSA\n",
      "lucas tracosa\n",
      "Lucas tracosa\n",
      "Lucas Tracosa\n"
     ]
    }
   ],
   "source": [
    "# A grande utilidade é para fazer comparações, mas também pode usar para padronizar a escrita\n",
    "\n",
    "# Torna tudo maiusculo\n",
    "nome_maiusculo = nome_completo.upper()\n",
    "print(nome_maiusculo)\n",
    "# Torna tudo minusculo\n",
    "nome_minusculo = nome_completo.lower()\n",
    "print(nome_minusculo)\n",
    "# converte o primeiro caracter da cadeia de caracteres maiscula e as demais para minúscula.\n",
    "nome_capitalize = nome_completo.capitalize()\n",
    "print(nome_capitalize)\n",
    "# converte a primeira letra de cada palavra de uma string para maiúscula e as demais para minúscula.\n",
    "nome_title = nome_minusculo.title()\n",
    "print(nome_title)\n"
   ]
  },
  {
   "cell_type": "markdown",
   "metadata": {},
   "source": [
    "1.5 - Operações com strings - Replace e verificação"
   ]
  },
  {
   "cell_type": "code",
   "execution_count": 40,
   "metadata": {},
   "outputs": [
    {
     "name": "stdout",
     "output_type": "stream",
     "text": [
      "O seu nome é:  Lucas Tracosa\n",
      "Seu nome depois de casado é:  Lucas Claveria\n",
      "Conferencia:  True\n"
     ]
    }
   ],
   "source": [
    "# Replace substitui uma substring dentro de uma string maior\n",
    "print('O seu nome é: ',nome_completo)\n",
    "nome_trocado = nome_completo.replace('Tracosa', 'Claveria')\n",
    "print('Seu nome depois de casado é: ', nome_trocado)\n",
    "\n",
    "# Verificação de uma subtring dentro de uma string maior\n",
    "\n",
    "conferir = 'tracosa' in nome_completo.lower()\n",
    "\n",
    "print('Conferencia: ', conferir)"
   ]
  },
  {
   "cell_type": "markdown",
   "metadata": {},
   "source": [
    "2 - Numéricos - Inteiros (int) e flutuantes (float)"
   ]
  },
  {
   "cell_type": "code",
   "execution_count": 1,
   "metadata": {},
   "outputs": [
    {
     "name": "stdout",
     "output_type": "stream",
     "text": [
      "27 <class 'int'>\n",
      "1.88 <class 'float'>\n"
     ]
    }
   ],
   "source": [
    "idade = 27\n",
    "altura = 1.88\n",
    "\n",
    "print(idade, type(idade))\n",
    "print(altura, type(altura))"
   ]
  },
  {
   "cell_type": "markdown",
   "metadata": {},
   "source": [
    "2.2 - Operações com numéricos - Adição e subtração "
   ]
  },
  {
   "cell_type": "code",
   "execution_count": 4,
   "metadata": {},
   "outputs": [
    {
     "name": "stdout",
     "output_type": "stream",
     "text": [
      "O hotel tem esta quantidade de quartos:  65\n"
     ]
    }
   ],
   "source": [
    "# total_quartos = 65\n",
    "quartos_ocupados = 39\n",
    "quartos_livres = 26\n",
    "\n",
    "# quartos_disponiveis = total_quartos - quartos_ocupados\n",
    "# quartos_ocupados = total_quartos - quartos_livres\n",
    "total_quartos = quartos_livres + quartos_ocupados\n",
    "\n",
    "# print('Quantidade de quartos disponíveis: ', quartos_ocupados)\n",
    "print('O hotel tem esta quantidade de quartos: ', total_quartos)\n",
    "\n"
   ]
  },
  {
   "cell_type": "markdown",
   "metadata": {},
   "source": [
    "2.3 - Operações com numéricos - Multiplicação e divisão"
   ]
  },
  {
   "cell_type": "code",
   "execution_count": 15,
   "metadata": {},
   "outputs": [
    {
     "name": "stdout",
     "output_type": "stream",
     "text": [
      "Total de quartos:  1\n"
     ]
    }
   ],
   "source": [
    "# Multiplicação\n",
    "# total_quartos = 65\n",
    "# copias_chaves = 2\n",
    "\n",
    "# total_chaves = total_quartos*copias_chaves\n",
    "# print('Total de cópias de chaves: ', total_chaves)\n",
    "\n",
    "total_chaves = 131\n",
    "copias_por_quarto = 2\n",
    "\n",
    "# Divisão comum\n",
    "# total_quartos = total_chaves / copias_por_quarto\n",
    "# Coletar somente a parte inteira da divisão\n",
    "# total_quartos = total_chaves // copias_por_quarto\n",
    "# Coletar somente a parte fracionaria da divisão\n",
    "# total_quartos = total_chaves % copias_por_quarto\n",
    "\n",
    "print('Total de quartos: ', total_quartos)"
   ]
  },
  {
   "cell_type": "markdown",
   "metadata": {},
   "source": [
    "2.4 - Operações com numéricos - Potenciação"
   ]
  },
  {
   "cell_type": "code",
   "execution_count": 18,
   "metadata": {},
   "outputs": [
    {
     "name": "stdout",
     "output_type": "stream",
     "text": [
      "A área do círculo é de 78.5 metros quadrados\n"
     ]
    }
   ],
   "source": [
    "# POTENCIAÇÃO\n",
    "PI = 3.14 #POR PADRONIZAÇÃO VARIAVEIS EM MAIUSCULO SIGNIFCAM ALGO CONSTANTE\n",
    "\n",
    "raio = 5\n",
    "area_circulo = PI*(raio**2)\n",
    "\n",
    "print(f'A área do círculo é de {area_circulo} metros quadrados')"
   ]
  },
  {
   "cell_type": "markdown",
   "metadata": {},
   "source": [
    "3 - Booleanos - Representam afirmações lógicas"
   ]
  },
  {
   "cell_type": "code",
   "execution_count": 9,
   "metadata": {},
   "outputs": [
    {
     "name": "stdout",
     "output_type": "stream",
     "text": [
      "True <class 'bool'>\n",
      "False <class 'bool'>\n",
      "True <class 'bool'>\n"
     ]
    }
   ],
   "source": [
    "casado = True\n",
    "ateu = False\n",
    "\n",
    "pai = True\n",
    "\n",
    "print(casado, type(casado))\n",
    "print(ateu, type(ateu))\n",
    "print(pai, type(pai))"
   ]
  },
  {
   "cell_type": "markdown",
   "metadata": {},
   "source": [
    "3.1 - Operações com booleanos - Igualdade e diferenciação"
   ]
  },
  {
   "cell_type": "code",
   "execution_count": 24,
   "metadata": {},
   "outputs": [
    {
     "name": "stdout",
     "output_type": "stream",
     "text": [
      "True\n"
     ]
    }
   ],
   "source": [
    "# Exemplo com strings\n",
    "x = 'GUSTAVO'\n",
    "y = 'Gustavo'\n",
    "\n",
    "verificar = x.upper() == y.upper()\n",
    "print(verificar)"
   ]
  },
  {
   "cell_type": "code",
   "execution_count": 41,
   "metadata": {},
   "outputs": [
    {
     "name": "stdout",
     "output_type": "stream",
     "text": [
      "True\n"
     ]
    }
   ],
   "source": [
    "# No python, é usado o sinal == para igualdade\n",
    "# Exemplo com numeros\n",
    "# x = 5\n",
    "# y = 5.0\n",
    "\n",
    "# verificar = x == y\n",
    "# print(verificar)\n",
    "\n",
    "# a = 9\n",
    "# b = '9'\n",
    "# verificar = int(a) == int(b)\n",
    "# print(verificar)\n",
    "\n",
    "x1 = 15\n",
    "x2 = 15.1\n",
    "\n",
    "# No python, é usado o sinal != para diferença\n",
    "\n",
    "verificar = x1 != x2\n",
    "print(verificar)"
   ]
  },
  {
   "cell_type": "code",
   "execution_count": 47,
   "metadata": {},
   "outputs": [
    {
     "name": "stdout",
     "output_type": "stream",
     "text": [
      "True\n"
     ]
    }
   ],
   "source": [
    "x2 = 90\n",
    "y2 = 90\n",
    "\n",
    "verificar = x2 >= y2\n",
    "print(verificar)"
   ]
  },
  {
   "cell_type": "markdown",
   "metadata": {},
   "source": [
    "3.2 - Operações com booleanos - AND, OR, NOT"
   ]
  },
  {
   "cell_type": "code",
   "execution_count": 10,
   "metadata": {},
   "outputs": [],
   "source": [
    "# O uso das portas lógicas fica mais claro quando combinado a controladores de fluxo (ex: if/else, while, for...)"
   ]
  },
  {
   "cell_type": "markdown",
   "metadata": {},
   "source": [
    "4 - Nulo - Representa ausência de valor significativo"
   ]
  },
  {
   "cell_type": "code",
   "execution_count": 48,
   "metadata": {},
   "outputs": [
    {
     "name": "stdout",
     "output_type": "stream",
     "text": [
      "None <class 'NoneType'>\n",
      "None <class 'NoneType'>\n"
     ]
    }
   ],
   "source": [
    "# NÃO É A MESMA COISA QUE ZERO !\n",
    "\n",
    "calvicie = None\n",
    "\n",
    "diabetes = None\n",
    "\n",
    "print(calvicie, type(calvicie))\n",
    "print(diabetes, type(diabetes))"
   ]
  }
 ],
 "metadata": {
  "kernelspec": {
   "display_name": "Python 3",
   "language": "python",
   "name": "python3"
  },
  "language_info": {
   "codemirror_mode": {
    "name": "ipython",
    "version": 3
   },
   "file_extension": ".py",
   "mimetype": "text/x-python",
   "name": "python",
   "nbconvert_exporter": "python",
   "pygments_lexer": "ipython3",
   "version": "3.12.0"
  }
 },
 "nbformat": 4,
 "nbformat_minor": 2
}
