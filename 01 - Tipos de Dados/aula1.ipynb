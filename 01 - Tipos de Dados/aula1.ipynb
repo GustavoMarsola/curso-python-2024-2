{
 "cells": [
  {
   "cell_type": "markdown",
   "metadata": {},
   "source": [
    "1 - Strings (str) - Representam uma cadeia de caracteres"
   ]
  },
  {
   "cell_type": "code",
   "execution_count": 2,
   "metadata": {},
   "outputs": [
    {
     "name": "stdout",
     "output_type": "stream",
     "text": [
      "Lucas <class 'str'>\n",
      "Tracosa <class 'str'>\n"
     ]
    }
   ],
   "source": [
    "nome = \"Lucas\"\n",
    "sobrenome = \"Tracosa\"\n",
    "\n",
    "print(nome, type(nome))\n",
    "print(sobrenome, type(sobrenome))\n"
   ]
  },
  {
   "cell_type": "markdown",
   "metadata": {},
   "source": [
    "1.1 - Operações com strings - Concatenação e formatação"
   ]
  },
  {
   "cell_type": "code",
   "execution_count": 15,
   "metadata": {},
   "outputs": [
    {
     "name": "stdout",
     "output_type": "stream",
     "text": [
      "Lucas Tracosa <class 'str'>\n"
     ]
    }
   ],
   "source": [
    "# Concatenação \n",
    "nome_completo = str(nome) + \" \" + str(sobrenome)\n",
    "# nome_completo = str(nome) + \" \" + str(1)\n",
    "print(nome_completo, type(nome_completo))"
   ]
  },
  {
   "cell_type": "code",
   "execution_count": 20,
   "metadata": {},
   "outputs": [
    {
     "name": "stdout",
     "output_type": "stream",
     "text": [
      "Lucas Tracosa <class 'str'>\n",
      "Lucas Tracosa da Silva <class 'str'>\n",
      "010110298762\n"
     ]
    }
   ],
   "source": [
    "# Formatação\n",
    "nome_formatado_1 = \"{} {}\".format(nome, sobrenome)\n",
    "print(nome_formatado_1, type(nome_formatado_1))\n",
    "\n",
    "# Minha versão preferida e mais usada\n",
    "nome_formatado_2 = f\"{nome} {sobrenome} da Silva\"\n",
    "print(nome_formatado_2, type(nome_formatado_2))\n",
    "\n",
    "# Exemplo pratico: gerar identifadores\n",
    "filial = \"010110\"\n",
    "nf= \"29876\"\n",
    "serie_nf=\"2\"\n",
    "\n",
    "print(f\"{filial}{nf}{serie_nf}\")\n"
   ]
  },
  {
   "cell_type": "markdown",
   "metadata": {},
   "source": [
    "1.2 - Operações com strings - Repetição e comprimento"
   ]
  },
  {
   "cell_type": "code",
   "execution_count": 24,
   "metadata": {},
   "outputs": [
    {
     "name": "stdout",
     "output_type": "stream",
     "text": [
      "LucasLucasLucasLucasLucasLucasLucasLucasLucasLucas\n"
     ]
    }
   ],
   "source": [
    "# Repetição\n",
    "print(nome*10)"
   ]
  },
  {
   "cell_type": "code",
   "execution_count": 26,
   "metadata": {},
   "outputs": [
    {
     "name": "stdout",
     "output_type": "stream",
     "text": [
      "5 <class 'int'>\n"
     ]
    }
   ],
   "source": [
    "# Comprimento\n",
    "quantidade_letras_nome = len(nome)\n",
    "# Atenção ! A saída da função len() é um inteiro !!!!!\n",
    "print(quantidade_letras_nome, type(quantidade_letras_nome))"
   ]
  },
  {
   "cell_type": "markdown",
   "metadata": {},
   "source": [
    "1.3 - Operações com strings - Indexação e slicing"
   ]
  },
  {
   "cell_type": "code",
   "execution_count": 7,
   "metadata": {},
   "outputs": [],
   "source": [
    "# Use somente em casos onde há um padrão de escrita."
   ]
  },
  {
   "cell_type": "markdown",
   "metadata": {},
   "source": [
    "1.4 - Operações com strings - Maiusculo, minusculo, capitalização, title, etc..."
   ]
  },
  {
   "cell_type": "code",
   "execution_count": 8,
   "metadata": {},
   "outputs": [],
   "source": [
    "# A grande utilidade é para fazer comparações, mas também pode usar para padronizar a escrita"
   ]
  },
  {
   "cell_type": "markdown",
   "metadata": {},
   "source": [
    "1.5 - Operações com strings - Replace e verificação"
   ]
  },
  {
   "cell_type": "code",
   "execution_count": null,
   "metadata": {},
   "outputs": [],
   "source": []
  },
  {
   "cell_type": "markdown",
   "metadata": {},
   "source": [
    "2 - Numéricos - Inteiros (int) e flutuantes (float)"
   ]
  },
  {
   "cell_type": "code",
   "execution_count": 5,
   "metadata": {},
   "outputs": [
    {
     "name": "stdout",
     "output_type": "stream",
     "text": [
      "27 <class 'int'>\n",
      "1.88 <class 'float'>\n"
     ]
    }
   ],
   "source": [
    "idade = 27\n",
    "altura = 1.88\n",
    "\n",
    "print(idade, type(idade))\n",
    "print(altura, type(altura))"
   ]
  },
  {
   "cell_type": "markdown",
   "metadata": {},
   "source": [
    "2.2 - Operações com numéricos - Adição e subtração "
   ]
  },
  {
   "cell_type": "code",
   "execution_count": null,
   "metadata": {},
   "outputs": [],
   "source": []
  },
  {
   "cell_type": "markdown",
   "metadata": {},
   "source": [
    "2.3 - Operações com numéricos - Multiplicação e divisão"
   ]
  },
  {
   "cell_type": "code",
   "execution_count": null,
   "metadata": {},
   "outputs": [],
   "source": []
  },
  {
   "cell_type": "markdown",
   "metadata": {},
   "source": [
    "2.4 - Operações com numéricos - Potenciação"
   ]
  },
  {
   "cell_type": "code",
   "execution_count": null,
   "metadata": {},
   "outputs": [],
   "source": []
  },
  {
   "cell_type": "markdown",
   "metadata": {},
   "source": [
    "3 - Booleanos - Representam afirmações lógicas"
   ]
  },
  {
   "cell_type": "code",
   "execution_count": 7,
   "metadata": {},
   "outputs": [
    {
     "name": "stdout",
     "output_type": "stream",
     "text": [
      "True <class 'bool'>\n",
      "False <class 'bool'>\n",
      "True <class 'bool'>\n"
     ]
    }
   ],
   "source": [
    "casado = True\n",
    "ateu = False\n",
    "\n",
    "pai = True\n",
    "\n",
    "print(casado, type(casado))\n",
    "print(ateu, type(ateu))\n",
    "print(pai, type(pai))"
   ]
  },
  {
   "cell_type": "markdown",
   "metadata": {},
   "source": [
    "3.1 - Operações com booleanos - Igualdade e diferenciação"
   ]
  },
  {
   "cell_type": "code",
   "execution_count": null,
   "metadata": {},
   "outputs": [],
   "source": []
  },
  {
   "cell_type": "markdown",
   "metadata": {},
   "source": [
    "3.2 - Operações com booleanos - AND, OR, NOT"
   ]
  },
  {
   "cell_type": "code",
   "execution_count": 16,
   "metadata": {},
   "outputs": [],
   "source": [
    "# O uso das portas lógicas fica mais claro quando combinado a controladores de fluxo (ex: if/else, while, for...)"
   ]
  },
  {
   "cell_type": "markdown",
   "metadata": {},
   "source": [
    "4 - Nulo - Representa ausência de valor significativo"
   ]
  },
  {
   "cell_type": "code",
   "execution_count": 8,
   "metadata": {},
   "outputs": [
    {
     "name": "stdout",
     "output_type": "stream",
     "text": [
      "None <class 'NoneType'>\n",
      "None <class 'NoneType'>\n"
     ]
    }
   ],
   "source": [
    "# NÃO É A MESMA COISA QUE ZERO !\n",
    "\n",
    "calvicie = None\n",
    "\n",
    "diabetes = None\n",
    "\n",
    "print(calvicie, type(calvicie))\n",
    "print(diabetes, type(diabetes))"
   ]
  }
 ],
 "metadata": {
  "kernelspec": {
   "display_name": "Python 3",
   "language": "python",
   "name": "python3"
  },
  "language_info": {
   "codemirror_mode": {
    "name": "ipython",
    "version": 3
   },
   "file_extension": ".py",
   "mimetype": "text/x-python",
   "name": "python",
   "nbconvert_exporter": "python",
   "pygments_lexer": "ipython3",
   "version": "3.12.0"
  }
 },
 "nbformat": 4,
 "nbformat_minor": 2
}
