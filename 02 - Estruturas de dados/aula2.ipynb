{
 "cells": [
  {
   "cell_type": "markdown",
   "metadata": {},
   "source": [
    "##  1 - Listas (list)"
   ]
  },
  {
   "cell_type": "markdown",
   "metadata": {},
   "source": [
    "### Representam um conjunto de dados ORDENADOS e MUTÁVEIS"
   ]
  },
  {
   "cell_type": "code",
   "execution_count": 1,
   "metadata": {},
   "outputs": [
    {
     "name": "stdout",
     "output_type": "stream",
     "text": [
      "['Gustavo Marsola', 'Lucas Tracosa', 'Belem Claveria'] <class 'list'>\n"
     ]
    }
   ],
   "source": [
    "hospedes = [\"Gustavo Marsola\", \"Lucas Tracosa\", \"Belem Claveria\"]\n",
    "\n",
    "print(hospedes, type(hospedes))"
   ]
  },
  {
   "cell_type": "markdown",
   "metadata": {},
   "source": [
    "### Métodos exclusivos das listas"
   ]
  },
  {
   "cell_type": "markdown",
   "metadata": {},
   "source": [
    "Adicionar um elemento - Append"
   ]
  },
  {
   "cell_type": "code",
   "execution_count": null,
   "metadata": {},
   "outputs": [],
   "source": [
    "hospedes.append(\"Lucas Tracosa\")\n",
    "\n",
    "print(hospedes)"
   ]
  },
  {
   "cell_type": "markdown",
   "metadata": {},
   "source": [
    "Adicionar um elemento - Insert"
   ]
  },
  {
   "cell_type": "code",
   "execution_count": null,
   "metadata": {},
   "outputs": [],
   "source": [
    "hospedes.insert(1, \"Daglas Munhoz\")\n",
    "\n",
    "print(hospedes)"
   ]
  },
  {
   "cell_type": "markdown",
   "metadata": {},
   "source": [
    "Remover um elemento - Remove"
   ]
  },
  {
   "cell_type": "code",
   "execution_count": null,
   "metadata": {},
   "outputs": [],
   "source": [
    "hospedes.remove(\"Gustavo Marsola\")\n",
    "\n",
    "print(hospedes)"
   ]
  },
  {
   "cell_type": "markdown",
   "metadata": {},
   "source": [
    "Remover um elemento - Pop"
   ]
  },
  {
   "cell_type": "code",
   "execution_count": null,
   "metadata": {},
   "outputs": [],
   "source": [
    "# Neste método podemos dizer o indice da lista que queremos remover\n",
    "# Se não informarmos, o último item da lista será removido por padrão\n",
    "hospedes.pop()\n",
    "hospedes.pop(0)\n",
    "\n",
    "print(hospedes)\n"
   ]
  },
  {
   "cell_type": "markdown",
   "metadata": {},
   "source": [
    "Modificar um elemento"
   ]
  },
  {
   "cell_type": "code",
   "execution_count": null,
   "metadata": {},
   "outputs": [],
   "source": [
    "hospedes[1] = \"Anibal Rojas\"\n",
    "\n",
    "print(hospedes)"
   ]
  },
  {
   "cell_type": "markdown",
   "metadata": {},
   "source": [
    "## 2 - Tuplas (tuple)"
   ]
  },
  {
   "cell_type": "markdown",
   "metadata": {},
   "source": [
    "### Conjunto de dados ORDENADOS e IMUTÁVEIS"
   ]
  },
  {
   "cell_type": "code",
   "execution_count": null,
   "metadata": {},
   "outputs": [],
   "source": [
    "\n",
    "check_in = (\"Alice\", \"2024-10-01\", 101)\n",
    "\n",
    "print(check_in, type(check_in))"
   ]
  },
  {
   "cell_type": "markdown",
   "metadata": {},
   "source": [
    "### Métodos exclusivos das tuplas"
   ]
  },
  {
   "cell_type": "markdown",
   "metadata": {},
   "source": [
    "Desempacotamento"
   ]
  },
  {
   "cell_type": "code",
   "execution_count": null,
   "metadata": {},
   "outputs": [],
   "source": [
    "nome, data, numero_quarto = check_in\n",
    "\n",
    "print('Nome do hospede: ', nome)\n",
    "print('Data do check in: ', data)\n",
    "print('Quarto escolhido: ', numero_quarto)"
   ]
  },
  {
   "cell_type": "code",
   "execution_count": null,
   "metadata": {},
   "outputs": [],
   "source": [
    "nome = check_in[0]\n",
    "data = check_in[1]\n",
    "numero_quarto = check_in[2]\n",
    "\n",
    "print('Nome do hospede: ', nome)\n",
    "print('Data do check in: ', data)\n",
    "print('Quarto escolhido: ', numero_quarto)"
   ]
  },
  {
   "cell_type": "markdown",
   "metadata": {},
   "source": [
    "### Métodos comuns para listas e tuplas"
   ]
  },
  {
   "cell_type": "markdown",
   "metadata": {},
   "source": [
    "Indexação e Fatiamento"
   ]
  },
  {
   "cell_type": "code",
   "execution_count": null,
   "metadata": {},
   "outputs": [],
   "source": [
    "primeiro_hospede = hospedes[0]\n",
    "data_check_in = check_in[1]\n",
    "\n",
    "print('Primeiro hospede: ', primeiro_hospede)\n",
    "print('Data do check in: ', data_check_in)"
   ]
  },
  {
   "cell_type": "markdown",
   "metadata": {},
   "source": [
    "Verificação"
   ]
  },
  {
   "cell_type": "code",
   "execution_count": null,
   "metadata": {},
   "outputs": [],
   "source": [
    "verificar_hospede = \"Gustavo Marsola\" in hospedes\n",
    "\n",
    "print(\"Gustavo Marsola é um hospede: \", verificar_hospede)\n",
    "print(\"Estes são todos os hospedes: \", hospedes)"
   ]
  },
  {
   "cell_type": "markdown",
   "metadata": {},
   "source": [
    "Recorrência de um elemento"
   ]
  },
  {
   "cell_type": "code",
   "execution_count": null,
   "metadata": {},
   "outputs": [],
   "source": [
    "quantidade_lucas = hospedes.count(\"Lucas Tracosa\")\n",
    "\n",
    "print(\"Quantidade de Lucas Tracosa: \", quantidade_lucas)"
   ]
  },
  {
   "cell_type": "markdown",
   "metadata": {},
   "source": [
    "Comprimento "
   ]
  },
  {
   "cell_type": "code",
   "execution_count": null,
   "metadata": {},
   "outputs": [],
   "source": [
    "quantidade_elementos_check_in = len(check_in)\n",
    "\n",
    "print(\"Quantidade de informações sobre o check in: \", quantidade_elementos_check_in)\n"
   ]
  },
  {
   "cell_type": "markdown",
   "metadata": {},
   "source": [
    "Máximo, mínimo e soma (somente listas numericamente homogêneas)"
   ]
  },
  {
   "cell_type": "code",
   "execution_count": null,
   "metadata": {},
   "outputs": [],
   "source": [
    "# Considere uma diária de 100 reais\n",
    "diarias_hospedes = (100, 300, 100, 700, 500)\n",
    "\n",
    "maior_valor_semanal = max(diarias_hospedes)\n",
    "print('Maior valor semanal: ', maior_valor_semanal)\n",
    "\n",
    "menor_valor_semanal = min(diarias_hospedes)\n",
    "print('Menor valor semanal: ', menor_valor_semanal)\n",
    "\n",
    "renda_semanal = sum(diarias_hospedes)\n",
    "print('Renda semanal: ', renda_semanal)"
   ]
  },
  {
   "cell_type": "markdown",
   "metadata": {},
   "source": [
    "## 3 - Dicionários (dict)"
   ]
  },
  {
   "cell_type": "markdown",
   "metadata": {},
   "source": [
    "### Dados em formato de pares chave-valor {\"chave\" :  valor}"
   ]
  },
  {
   "cell_type": "code",
   "execution_count": null,
   "metadata": {},
   "outputs": [],
   "source": [
    "dados_hospedagem = {\n",
    "    \"nome_cliente\": \"Gustavo Marsola Borges\",\n",
    "    \"idade_cliente\": 26,\n",
    "    \"quantidade_diarias\": 4,\n",
    "    \"valor_diaria\": 150.0\n",
    "}\n",
    "\n",
    "print(dados_hospedagem, type(dados_hospedagem))"
   ]
  },
  {
   "cell_type": "markdown",
   "metadata": {},
   "source": [
    "Values, keys e items"
   ]
  },
  {
   "cell_type": "code",
   "execution_count": null,
   "metadata": {},
   "outputs": [],
   "source": [
    "print('Valores do dicionario: ', dados_hospedagem.values())\n",
    "print('Chaves do dicionario: ', dados_hospedagem.keys())\n",
    "print('Itens do dicionario: ', dados_hospedagem.items())"
   ]
  },
  {
   "cell_type": "markdown",
   "metadata": {},
   "source": [
    "Get\n",
    "Pega uma chave do dicionário, e, se não existir a chave, retornará o valor None"
   ]
  },
  {
   "cell_type": "code",
   "execution_count": null,
   "metadata": {},
   "outputs": [],
   "source": [
    "qtd_diarias = dados_hospedagem.get(\"quantidade_diarias\")\n",
    "\n",
    "print('O cliente ficou hospedado por {} dias'.format(qtd_diarias))"
   ]
  },
  {
   "cell_type": "code",
   "execution_count": null,
   "metadata": {},
   "outputs": [],
   "source": [
    "qtd_diarias = dados_hospedagem[\"quantidade_diarias\"]\n",
    "print('O cliente ficou hospedado por {} dias'.format(qtd_diarias))\n"
   ]
  },
  {
   "cell_type": "markdown",
   "metadata": {},
   "source": [
    "Update e pop"
   ]
  },
  {
   "cell_type": "code",
   "execution_count": null,
   "metadata": {},
   "outputs": [],
   "source": [
    "# dados_hospedagem.update(\n",
    "#     {\n",
    "#         \"check_in\": \"2024-11-07\"\n",
    "#     }\n",
    "# )\n",
    "\n",
    "# print(dados_hospedagem)\n",
    "\n",
    "dados_hospedagem.pop('idade_cliente')\n",
    "print(dados_hospedagem)"
   ]
  },
  {
   "cell_type": "markdown",
   "metadata": {},
   "source": [
    "## 4 - Conjuntos (set)"
   ]
  },
  {
   "cell_type": "markdown",
   "metadata": {},
   "source": [
    "### Trata-se de dados NÃO ORDENADOS e NÃO DUPLICADOS"
   ]
  },
  {
   "cell_type": "code",
   "execution_count": null,
   "metadata": {},
   "outputs": [],
   "source": [
    "hospedes = {\"Alice\", \"Carlos\", \"Diana\", \"Carlos\"}  # \"Carlos\" será ignorado\n",
    "print(hospedes, type(hospedes))\n"
   ]
  },
  {
   "cell_type": "markdown",
   "metadata": {},
   "source": [
    "Add e remove"
   ]
  },
  {
   "cell_type": "code",
   "execution_count": null,
   "metadata": {},
   "outputs": [],
   "source": [
    "hospedes.add(\"Evelyn\")  # Adiciona um novo hóspede\n",
    "hospedes.remove(\"Diana\")  # Remove um hóspede\n",
    "\n",
    "print(hospedes)"
   ]
  },
  {
   "cell_type": "markdown",
   "metadata": {},
   "source": [
    "Union - Combina itens dos dois conjuntos"
   ]
  },
  {
   "cell_type": "code",
   "execution_count": null,
   "metadata": {},
   "outputs": [],
   "source": [
    "quartos_ocupados = {101, 102, 103}\n",
    "quartos_disponiveis = {104, 105, 106}\n",
    "\n",
    "todos_os_quartos = quartos_ocupados.union(quartos_disponiveis)\n",
    "\n",
    "print(todos_os_quartos) "
   ]
  }
 ],
 "metadata": {
  "kernelspec": {
   "display_name": "Python 3",
   "language": "python",
   "name": "python3"
  },
  "language_info": {
   "codemirror_mode": {
    "name": "ipython",
    "version": 3
   },
   "file_extension": ".py",
   "mimetype": "text/x-python",
   "name": "python",
   "nbconvert_exporter": "python",
   "pygments_lexer": "ipython3",
   "version": "3.12.0"
  }
 },
 "nbformat": 4,
 "nbformat_minor": 2
}
